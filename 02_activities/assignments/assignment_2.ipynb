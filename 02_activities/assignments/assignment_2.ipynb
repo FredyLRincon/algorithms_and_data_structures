{
 "cells": [
  {
   "cell_type": "markdown",
   "metadata": {},
   "source": [
    "# Practice Interview\n",
    "\n",
    "## Objective\n",
    "\n",
    "_*The partner assignment aims to provide participants with the opportunity to practice coding in an interview context. You will analyze your partner's Assignment 1. Moreover, code reviews are common practice in a software development team. This assignment should give you a taste of the code review process.*_\n",
    "\n",
    "## Group Size\n",
    "\n",
    "Each group should have 2 people. You will be assigned a partner\n",
    "\n",
    "## Part 1:\n",
    "\n",
    "You and your partner must share each other's Assignment 1 submission."
   ]
  },
  {
   "cell_type": "markdown",
   "metadata": {},
   "source": [
    "[Gibran's assignment-1](https://github.com/GibranAlvarez/algorithms_and_data_structures/blob/assignment-1/02_activities/assignments/assignment_1.ipynb)\n",
    "\n",
    "[Fredy's assignment-1](https://github.com/fredylrincon/algorithms_and_data_structures/blob/assignment-1/02_activities/assignments/assignment_1.ipynb)"
   ]
  },
  {
   "cell_type": "markdown",
   "metadata": {},
   "source": [
    "\n",
    "## Part 2:\n",
    "\n",
    "Create a Jupyter Notebook, create 6 of the following headings, and complete the following for your partner's assignment 1:\n",
    "\n",
    "-   Paraphrase the problem in your own words.\n"
   ]
  },
  {
   "cell_type": "markdown",
   "metadata": {},
   "source": [
    "You have a list of numbers. These numbers should include every number from 0 up to the length of the list, but some numbers might be missing. In addition, the list can have repeated numbers.\n",
    "\n",
    "The goal of this task is to find and return the missing numbers.\n",
    "- If no numbers are missing, return -1."
   ]
  },
  {
   "cell_type": "markdown",
   "metadata": {},
   "source": [
    "\n",
    "-   Create 1 new example that demonstrates you understand the problem. Trace/walkthrough 1 example that your partner made and explain it.\n"
   ]
  },
  {
   "cell_type": "markdown",
   "metadata": {},
   "source": [
    "**NEW EXAMPLE:** We have the following list of numbers:\n",
    "\n",
    "- Input List: [4, 0, 1, 3, 8, 6, 10]  \n",
    "- Expected Output: [2, 5, 7, 9]\n",
    "\n",
    "**Gibran's (my classmate's) Example**\n",
    "- Input List: [6, 8, 2, 3, 5, 7, 0, 1, 10]\n",
    "- Expected Output [4, 9]\n",
    "\n",
    "**Trace/Walkthrough/Explanation of Gibran's Code**\n",
    "\n",
    "First, Gibran's code sorts the list using bubble sort to get the largest number at the end of the list.\n",
    "\n",
    "    Initial list: [6, 8, 2, 3, 5, 7, 0, 1, 10]\n",
    "    After sorting: [0, 1, 2, 3, 5, 6, 7, 8, 10]\n",
    "\n",
    "    The largest number is now in the last position: 10\n",
    "\n",
    "Next, Gibran's code creates a complete_list containing all numbers from 0 to the largest number in the sorted list.\n",
    "\n",
    "    complete_list = [0, 1, 2, 3, 4, 5, 6, 7, 8, 9]\n",
    "\n",
    "Finally, Gibran's code compares the complete_list with the original list to find the missing numbers.\n",
    "\n",
    "    Iterate through complete_list = [0, 1, 2, 3, 4, 5, 6, 7, 8, 9]\n",
    "    Compare each element with the sorted lst = [0, 1, 2, 3, 5, 6, 7, 8, 10]\n",
    "    Missing numbers: 4 and 9 (since they are not in the sorted lst)\n",
    "    \n",
    "The function returns the missing_list, which contains [4, 9]."
   ]
  },
  {
   "cell_type": "markdown",
   "metadata": {},
   "source": [
    "\n",
    "-   Copy the solution your partner wrote. \n"
   ]
  },
  {
   "cell_type": "code",
   "execution_count": 1,
   "metadata": {},
   "outputs": [],
   "source": [
    "# Gibran's Code\n",
    "\n",
    "def missing_num(i, n, lst) -> int:\n",
    "\n",
    "#ordering list with bubble sort to obtain the largest number wich will be in the last position of the list --> lst[-1]\n",
    "    n = len(lst)\n",
    "    for i in range(n):\n",
    "        for j in range(0, n-i-1):\n",
    "            if lst[j] > lst[j+1]:\n",
    "                lst[j], lst[j+1] = lst[j+1], lst[j]\n",
    "\n",
    "#Making a list to compare to from 0 to the largest number on the ist\n",
    "        complete_list = []\n",
    "    for i in range(lst[-1]):\n",
    "        complete_list.append(i)\n",
    "\n",
    "#Making the missing_list out of the numbers in the complete_list that are not on lst\n",
    "    missing_list = []\n",
    "    for i in complete_list:\n",
    "        if i not in lst:\n",
    "            if i not in missing_list:\n",
    "                missing_list.append(i)\n",
    "\n",
    "    return missing_list"
   ]
  },
  {
   "cell_type": "markdown",
   "metadata": {},
   "source": [
    "\n",
    "-   Explain why their solution works in your own words.\n"
   ]
  },
  {
   "cell_type": "markdown",
   "metadata": {},
   "source": [
    "Gibran's code  identifies any missing numbers in a given input list by generating a range of expected numbers and then comparing it with the input list."
   ]
  },
  {
   "cell_type": "markdown",
   "metadata": {},
   "source": [
    "\n",
    "-   Explain the problem’s time and space complexity in your own words.\n"
   ]
  },
  {
   "cell_type": "markdown",
   "metadata": {},
   "source": [
    "Gibran's algorithm time complexity is O(n). The main operations are bubble sort, list creation, and missing number detection, each with a complexity of O(m). In the worst case, when the input list contains numbers from 0 to n with some missing, the overall time complexity can be approximated to O($n^2$). \n",
    "\n",
    "As for space complexity, the primary contributors are the complete_list and missing_list, each with a complexity of O(m). Therefore, the overall space complexity is O(m), where m is the largest number in the input list."
   ]
  },
  {
   "cell_type": "markdown",
   "metadata": {},
   "source": [
    "\n",
    "-   Critique your partner's solution, including explanation, and if there is anything that should be adjusted.\n"
   ]
  },
  {
   "cell_type": "markdown",
   "metadata": {},
   "source": [
    "Gibran's code  identifies any missing numbers in a given input list by generating a range of expected numbers and then comparing it with the input list.\n",
    "\n",
    "The method of sorting the list, creating a range of numbers, and then finding the missing numbers is reliable. The code is easy to follow and understand, which is great for maintainability.\n",
    "\n",
    "Gibran might consider using a more efficient sorting algorithm like lst.sort (Python's built-in sort function) which has a time complexity of 𝑂(𝑛log𝑛) instead of Bubble sort for larger lists. Also, when creating a complete list, adjust the range to include the largest number using range(lst[-1] + 1)."
   ]
  },
  {
   "cell_type": "code",
   "execution_count": 2,
   "metadata": {},
   "outputs": [
    {
     "name": "stdout",
     "output_type": "stream",
     "text": [
      "[4, 9]\n"
     ]
    }
   ],
   "source": [
    "from typing import List\n",
    "\n",
    "def missing_num(i, n, lst) -> List[int]:\n",
    "    # Use Python's built-in sort function\n",
    "    n = len(lst)\n",
    "    lst.sort()  \n",
    "    \n",
    "    # Create a complete list to compare from 0 to the largest number inclusive\n",
    "    complete_list = []\n",
    "    for i in range(lst[-1] + 1):  # Fix: include the largest number\n",
    "        complete_list.append(i)\n",
    "    \n",
    "    # Use a set to find missing numbers\n",
    "    num_set = set(lst)\n",
    "    missing_list = []\n",
    "    for i in complete_list:\n",
    "        if i not in num_set:\n",
    "            missing_list.append(i)\n",
    "    \n",
    "    return missing_list\n",
    "\n",
    "# Test example for the given scenario\n",
    "lst = [6, 8, 2, 3, 5, 7, 0, 1, 10]\n",
    "print(missing_num(0, len(lst), lst))  # Output: [4, 9]\n"
   ]
  },
  {
   "cell_type": "markdown",
   "metadata": {},
   "source": [
    "\n",
    "## Part 3:\n",
    "\n",
    "Please write a 200 word reflection documenting your process from assignment 1, and your presentation and review experience with your partner at the bottom of the Jupyter Notebook under a new heading \"Reflection.\" Again, export this Notebook as pdf.\n"
   ]
  },
  {
   "cell_type": "markdown",
   "metadata": {},
   "source": [
    "### Reflection"
   ]
  },
  {
   "cell_type": "markdown",
   "metadata": {},
   "source": [
    "Working on Assignment 1 and 2 for the Algorithms and Data Structures course was engaging. The task involved creating a function to find all root-to-leaf paths in a binary tree. I started by understanding the problem and writing a clear plan. The input for the first test scenario was a tree with values `[1, 2, 2, 3, 5, 6, 7]`, and the output was paths like `[1, 2, 3]`. Implementing the function using Depth-First Search (DFS) was straightforward, and it handled different tree structures effectively, as seen in the second scenario with input `[10, 9, 7, 8]`.\n",
    "\n",
    "Creating two new examples helped solidify my understanding of the problem. We also simplified and optimized the code for Question 2. The simplified version  explained how to traverse the tree, while the optimized version demonstrated the importance of efficient code.\n",
    "\n",
    "Reviewing Gibran's code for Question 3 was insightful. His approach to finding missing numbers in a list was good; However, I identified two areas for improvement: Gibran's code had a a minor bug and could be more efficient.\n",
    "\n",
    "- The bug could be fixed by correctly including the largest number in the range.\n",
    "- The code could be optimized by using Python's built-in `sort()` function and sets for faster lookups. \n",
    "\n",
    "This process emphasized the importance of clarity and correctness in coding.\n",
    "\n",
    "Throughout these exercises, the significance of data structures became evident. Understanding how to effectively use binary trees, sorting algorithms, and efficient search techniques is crucial. These data structures form the backbone of efficient algorithm design and problem-solving in data science.\n",
    "\n",
    "Overall, this assignment highlighted the value of testing and code review, ensuring effective and efficient solutions. Understanding the time and space complexity of our algorithms was crucial in making these improvements and ensuring our code was up to standards and scalable."
   ]
  },
  {
   "cell_type": "markdown",
   "metadata": {},
   "source": [
    "[Assignment_2.pdf](assignment_2.pdf)"
   ]
  },
  {
   "cell_type": "markdown",
   "metadata": {},
   "source": [
    "\n",
    "## Evaluation Criteria\n",
    "\n",
    "We are looking for the similar points as Assignment 1\n",
    "\n",
    "-   Problem is accurately stated\n",
    "\n",
    "-   New example is correct and easily understandable\n",
    "\n",
    "-   Correctness, time, and space complexity of the coding solution\n",
    "\n",
    "-   Clarity in explaining why the solution works, its time and space complexity\n",
    "\n",
    "-   Quality of critique of your partner's assignment, if necessary\n"
   ]
  },
  {
   "cell_type": "markdown",
   "metadata": {},
   "source": [
    "## Submission Information\n",
    "\n",
    "🚨 **Please review our [Assignment Submission Guide](https://github.com/UofT-DSI/onboarding/blob/main/onboarding_documents/submissions.md)** 🚨 for detailed instructions on how to format, branch, and submit your work. Following these guidelines is crucial for your submissions to be evaluated correctly.\n",
    "\n",
    "### Submission Parameters:\n",
    "* Submission Due Date: `11:59 PM - 21/07/2024`\n",
    "* The branch name for your repo should be: `assignment-2`\n",
    "* What to submit for this assignment:\n",
    "    * This Jupyter Notebook (assignment_2.ipynb) should be populated and should be the only change in your pull request.\n",
    "* What the pull request link should look like for this assignment: `https://github.com/fredylrincon/algorithms_and_data_structures/pull/<pr_id>`\n",
    "    * Open a private window in your browser. Copy and paste the link to your pull request into the address bar. Make sure you can see your pull request properly. This helps the technical facilitator and learning support staff review your submission easily.\n",
    "\n",
    "Checklist:\n",
    "- [X] Created a branch with the correct naming convention.\n",
    "- [X] Ensured that the repository is public.\n",
    "- [X] Reviewed the PR description guidelines and adhered to them.\n",
    "- [X] Verify that the link is accessible in a private browser window.\n",
    "\n",
    "If you encounter any difficulties or have questions, please don't hesitate to reach out to our team via our Slack at `#cohort-3-help`. Our Technical Facilitators and Learning Support staff are here to help you navigate any challenges.\n"
   ]
  }
 ],
 "metadata": {
  "kernelspec": {
   "display_name": "scale2prod",
   "language": "python",
   "name": "python3"
  },
  "language_info": {
   "codemirror_mode": {
    "name": "ipython",
    "version": 3
   },
   "file_extension": ".py",
   "mimetype": "text/x-python",
   "name": "python",
   "nbconvert_exporter": "python",
   "pygments_lexer": "ipython3",
   "version": "3.12.3"
  }
 },
 "nbformat": 4,
 "nbformat_minor": 2
}
