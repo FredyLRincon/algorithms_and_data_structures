{
 "cells": [
  {
   "cell_type": "markdown",
   "metadata": {},
   "source": [
    "# Coding Problems\n",
    "\n",
    "## Objective\n",
    "\n",
    "This assignment aims to demonstrate how to study a data structures or algorithms question in depth to prepare for an industry coding interview. Leetcode is a popular coding practice site that many use to practice for technical interviews. Like behavioral interviews, it's important to practice and keep your skills sharp.\n",
    "\n",
    "## Group Size\n",
    "\n",
    "Please complete this individually.\n",
    "\n",
    "## Part 1:\n",
    "\n",
    "_*You will be assigned one of three problems based of your first name. Execute the code below, and that will tell you your assigned problem. Include the output as part of your submission (do not clear the output). The problems are based-off problems from Leetcode.*_\n"
   ]
  },
  {
   "cell_type": "code",
   "execution_count": 1,
   "metadata": {},
   "outputs": [
    {
     "name": "stdout",
     "output_type": "stream",
     "text": [
      "2\n"
     ]
    }
   ],
   "source": [
    "print((hash('Fredy') % 3) + 1)"
   ]
  },
  {
   "cell_type": "markdown",
   "metadata": {},
   "source": [
    "<details>\n",
    "  <summary>Question 1</summary>\n",
    "\n",
    "  # Question One: Check Duplicates in Tree\n",
    "\n",
    "  Given the `root` of a binary tree, check whether it is contains a duplicate value. If a duplicate exists, return the duplicate value. If there are multiple duplicates, return the one with the closest distance to the root. If no duplicate exists, return -1.\n",
    "\n",
    "  ## Examples\n",
    "\n",
    "  ### Example 1\n",
    "\n",
    "  ![](./images/q1_ex1.png)\n",
    "\n",
    "  Input: `root = [1, 2, 2, 3, 5, 6, 7]` *What traversal method is this?*\n",
    "\n",
    "  Output: 2\n",
    "\n",
    "  ### Example 2\n",
    "\n",
    "  ![](./images/q1_ex2.png)\n",
    "\n",
    "  Input: `root = [1, 10, 2, 3, 10, 12, 12]`\n",
    "\n",
    "  Output: 10\n",
    "\n",
    "  ### Example 3\n",
    "\n",
    "  ![](./images/q1_ex3.png)\n",
    "\n",
    "  Input: `root = [10, 9, 8, 7]`\n",
    "\n",
    "  Output: -1\n",
    "\n",
    "</details>\n",
    "\n",
    "#### Starter Code for Question 1"
   ]
  },
  {
   "cell_type": "code",
   "execution_count": 2,
   "metadata": {},
   "outputs": [],
   "source": [
    "#N/A"
   ]
  },
  {
   "cell_type": "markdown",
   "metadata": {},
   "source": [
    "<details>\n",
    "  <summary>Question 2</summary>\n",
    "\n",
    "  # Question Two: Path to Leaves\n",
    "\n",
    "  Given the `root` of a binary tree, return all root to leaf paths in any order.\n",
    "\n",
    "  ## Examples\n",
    "\n",
    "  ### Example 1\n",
    "\n",
    "  ![](./images/q1_ex1.png)\n",
    "\n",
    "  Input: `root = [1, 2, 2, 3, 5, 6, 7]` *What traversal method is this?*\n",
    "\n",
    "  Output: [[1, 2, 3], [1, 2, 5], [1, 2, 6], [1, 2, 7]]\n",
    "\n",
    "  ### Example 2\n",
    "\n",
    "  ![](./images/q1_ex3.png)\n",
    "\n",
    "  Input: `root = [10, 9, 7, 8]`\n",
    "\n",
    "  Output: [[10, 7], [10, 9, 8]]\n",
    "\n",
    "</details>\n",
    "\n",
    "#### Starter Code for Question 2"
   ]
  },
  {
   "cell_type": "markdown",
   "metadata": {},
   "source": [
    "**Traversal Method:**  The input `[1, 2, 2, 3, 5, 6, 7]` is given in level-order traversal (breadth-first traversal)."
   ]
  },
  {
   "cell_type": "code",
   "execution_count": 3,
   "metadata": {},
   "outputs": [],
   "source": [
    "from typing import List\n",
    "\n",
    "class TreeNode:\n",
    "    def __init__(self, val=0, left=None, right=None):\n",
    "        self.val = val\n",
    "        self.left = left\n",
    "        self.right = right\n",
    "\n",
    "def bt_path(root: TreeNode) -> List[List[int]]:\n",
    "    if not root:\n",
    "        return []\n",
    "\n",
    "    def dfs(node, path):\n",
    "        path.append(node.val)\n",
    "        if not node.left and not node.right:\n",
    "            paths.append(path)\n",
    "        if node.left:\n",
    "            dfs(node.left, path.copy())\n",
    "        if node.right:\n",
    "            dfs(node.right, path.copy())\n",
    "\n",
    "    paths = []\n",
    "    dfs(root, [])\n",
    "    return paths"
   ]
  },
  {
   "cell_type": "markdown",
   "metadata": {},
   "source": [
    "Recursive, Dept-first search with path copying.\n",
    "\n",
    "Time and Space Complexity (Worst Case): O(N²)\n",
    "\n",
    "Time and Space Complexity (Best Case): O (N log N)"
   ]
  },
  {
   "cell_type": "code",
   "execution_count": 4,
   "metadata": {},
   "outputs": [
    {
     "name": "stdout",
     "output_type": "stream",
     "text": [
      "[[1, 2, 3], [1, 2, 5], [1, 2, 6], [1, 2, 7]]\n"
     ]
    }
   ],
   "source": [
    "root = TreeNode(1)\n",
    "root.left = TreeNode(2)\n",
    "root.right = TreeNode(2)\n",
    "root.left.left = TreeNode(3)\n",
    "root.left.right = TreeNode(5)\n",
    "root.right.left = TreeNode(6)\n",
    "root.right.right = TreeNode(7)\n",
    "\n",
    "print(bt_path(root))"
   ]
  },
  {
   "cell_type": "code",
   "execution_count": 5,
   "metadata": {},
   "outputs": [
    {
     "name": "stdout",
     "output_type": "stream",
     "text": [
      "[[10, 9, 8], [10, 7]]\n"
     ]
    }
   ],
   "source": [
    "\n",
    "root = TreeNode(10)\n",
    "root.left = TreeNode(9)\n",
    "root.left.left = TreeNode(8)\n",
    "root.right = TreeNode(7)\n",
    "\n",
    "print(bt_path(root))"
   ]
  },
  {
   "cell_type": "markdown",
   "metadata": {},
   "source": [
    "<details>\n",
    "  <summary>Question 3</summary>\n",
    "\n",
    "  # Question Three: Missing Number in Range\n",
    " \n",
    "  You are given a list containing `n` integers in the range `[0, n]`. Return a list of numbers that are missing from the range `[0, n]` of the array. If there is no missing number, return -1. Note, all the integers in the list may not be unique.\n",
    "  \n",
    "  ## Examples\n",
    "\n",
    "  ### Example 1\n",
    "\n",
    "  Input: `lst = [0, 2]`\n",
    "\n",
    "  Output: [1]\n",
    "\n",
    "  ### Example 2\n",
    "\n",
    "  Input: `lst = [5, 0, 1]`\n",
    "\n",
    "  Output: [2, 3, 4]\n",
    "\n",
    "  ### Example 3\n",
    "\n",
    "  Input: `lst = [6, 8, 2, 3, 5, 7, 0, 1, 10]`\n",
    "\n",
    "  Output: [4, 9]\n",
    "\n",
    "</details>\n",
    "\n",
    "#### Starter Code for Question 3\n"
   ]
  },
  {
   "cell_type": "code",
   "execution_count": 6,
   "metadata": {},
   "outputs": [],
   "source": [
    "#N/A"
   ]
  },
  {
   "cell_type": "markdown",
   "metadata": {},
   "source": [
    "## Part 2:\n",
    "\n",
    "-   Paraphrase the problem in your own words"
   ]
  },
  {
   "cell_type": "markdown",
   "metadata": {},
   "source": [
    "Consider a tree with each circle having a number starting from the top. The task is to find all the paths from the top circle (root) to the bottom circles (leaves). This can be achieved by listing each path as a sequence of numbers from the top to the bottom.\n",
    "\n",
    "For example:\n",
    "\n",
    "1. If the tree has numbers `[1, 2, 2, 3, 5, 6, 7]`, the paths from top to bottom are `[[1, 2, 3], [1, 2, 5], [1, 2, 6], [1, 2, 7]]`.\n",
    "\n",
    "2. If the tree has numbers `[10, 9, 7, 8]`, the paths from top to bottom are `[[10, 7], [10, 9, 8]]`."
   ]
  },
  {
   "cell_type": "markdown",
   "metadata": {},
   "source": [
    "- There are examples that illustrate how the code should work. Create 2 new examples that demonstrate you understand the problem."
   ]
  },
  {
   "cell_type": "markdown",
   "metadata": {},
   "source": [
    "### Example 3:\n",
    "Input Tree: [4, 2, 6, 1, 3, 5, 7]\n",
    "\n",
    "![](./images/q2_ex3.png)"
   ]
  },
  {
   "cell_type": "code",
   "execution_count": 7,
   "metadata": {},
   "outputs": [
    {
     "name": "stdout",
     "output_type": "stream",
     "text": [
      "[[4, 2, 1], [4, 2, 3], [4, 6, 5], [4, 6, 7]]\n"
     ]
    }
   ],
   "source": [
    "# Example 3\n",
    "root1 = TreeNode(4)\n",
    "root1.left = TreeNode(2)\n",
    "root1.right = TreeNode(6)\n",
    "root1.left.left = TreeNode(1)\n",
    "root1.left.right = TreeNode(3)\n",
    "root1.right.left = TreeNode(5)\n",
    "root1.right.right = TreeNode(7)\n",
    "print(bt_path(root1)) "
   ]
  },
  {
   "cell_type": "markdown",
   "metadata": {},
   "source": [
    "### Example 4:\n",
    "![](./images/q2_ex4.png)\n",
    "Input Tree: [5, 3, 8, 2, None, 7, 10, 1]"
   ]
  },
  {
   "cell_type": "code",
   "execution_count": 8,
   "metadata": {},
   "outputs": [
    {
     "name": "stdout",
     "output_type": "stream",
     "text": [
      "[[5, 3, 2, 1], [5, 8, 7], [5, 8, 10]]\n"
     ]
    }
   ],
   "source": [
    "# Example 4\n",
    "root2 = TreeNode(5)\n",
    "root2.left = TreeNode(3)\n",
    "root2.right = TreeNode(8)\n",
    "root2.left.left = TreeNode(2)\n",
    "root2.left.left.left = TreeNode(1)\n",
    "root2.right.left = TreeNode(7)\n",
    "root2.right.right = TreeNode(10)\n",
    "print(bt_path(root2))"
   ]
  },
  {
   "cell_type": "markdown",
   "metadata": {},
   "source": [
    "\n",
    "-   Code the solution to your assigned problem in Python. Try to find the best time and space complexity solution!\n"
   ]
  },
  {
   "cell_type": "code",
   "execution_count": 9,
   "metadata": {},
   "outputs": [],
   "source": [
    "from typing import List\n",
    "\n",
    "class TreeNode(object):\n",
    "    def __init__(self, val=0, left=None, right=None):\n",
    "        self.val = val\n",
    "        self.left = left\n",
    "        self.right = right\n",
    "\n",
    "def bt_path(root: TreeNode) -> List[List[int]]:\n",
    "    def dfs(node, path):\n",
    "        if not node:\n",
    "            return\n",
    "        path.append(node.val)\n",
    "        if not node.left and not node.right:\n",
    "            paths.append(list(path))\n",
    "        else:\n",
    "            dfs(node.left, path)\n",
    "            dfs(node.right, path)\n",
    "        path.pop()\n",
    "    \n",
    "    paths = []\n",
    "    dfs(root, [])\n",
    "    return paths"
   ]
  },
  {
   "cell_type": "markdown",
   "metadata": {},
   "source": [
    "Recursive, Dept-first search with backtracking.\n",
    "\n",
    "Time and Space Complexity (Worst Case): O(N)\n",
    "\n",
    "Time and Space Complexity (Best Case): O(N)"
   ]
  },
  {
   "cell_type": "code",
   "execution_count": 10,
   "metadata": {},
   "outputs": [
    {
     "name": "stdout",
     "output_type": "stream",
     "text": [
      "[[4, 2, 1], [4, 2, 3], [4, 6, 5], [4, 6, 7]]\n",
      "[[5, 3, 2, 1], [5, 8, 7], [5, 8, 10]]\n"
     ]
    }
   ],
   "source": [
    "#Testing with Examples 3 and 4\n",
    "# Example 3\n",
    "root1 = TreeNode(4)\n",
    "root1.left = TreeNode(2)\n",
    "root1.right = TreeNode(6)\n",
    "root1.left.left = TreeNode(1)\n",
    "root1.left.right = TreeNode(3)\n",
    "root1.right.left = TreeNode(5)\n",
    "root1.right.right = TreeNode(7)\n",
    "print (bt_path(root1))\n",
    "\n",
    "# Example 4\n",
    "root2 = TreeNode(5)\n",
    "root2.left = TreeNode(3)\n",
    "root2.right = TreeNode(8)\n",
    "root2.left.left = TreeNode(2)\n",
    "root2.left.left.left = TreeNode(1)\n",
    "root2.right.left = TreeNode(7)\n",
    "root2.right.right = TreeNode(10)\n",
    "print(bt_path(root2))"
   ]
  },
  {
   "cell_type": "markdown",
   "metadata": {},
   "source": [
    "\n",
    "-   Explain why your solution works\n"
   ]
  },
  {
   "cell_type": "markdown",
   "metadata": {},
   "source": [
    "This solution works because:\n",
    "- It explores every possible path from the top circle to the bottom circles, keeps track of each path, and ensures no path is missed by using a method called Depth-First Search with backtracking, and\n",
    "- Finds all paths using O(N) time and space, where N is the number of nodes."
   ]
  },
  {
   "cell_type": "markdown",
   "metadata": {},
   "source": [
    "\n",
    "-   Explain the problem’s time and space complexity\n"
   ]
  },
  {
   "cell_type": "markdown",
   "metadata": {},
   "source": [
    "The time it takes to run the function increases as the number of circles in the tree increases, which is known as O(N). Similarly, the amount of memory needed increases as more circles are added to the tree, which is also described as O(N). In simpler terms, as the tree size grows, the time and space required to run our function increase proportionally."
   ]
  },
  {
   "cell_type": "markdown",
   "metadata": {},
   "source": [
    "\n",
    "-   Explain the thinking to an alternative solution (no coding required, but a classmate reading this should be able to code it up based off your text)\n"
   ]
  },
  {
   "cell_type": "markdown",
   "metadata": {},
   "source": [
    "**Task:** Use a stack instead of recursion to find all paths from the root to the leaves of a binary tree.\n",
    "\n",
    "Use the following instructions to code it in Python:\n",
    "\n",
    "1. **Set-Up:**\n",
    "   - Start with an empty stack.\n",
    "   - Put the root node and an empty list onto the stack.\n",
    "   - Create a list to store all the paths.\n",
    "\n",
    "2. **While the Stack is Not Empty:**\n",
    "   - Take out a node and its path from the stack.\n",
    "   - Add the node’s value to the path.\n",
    "\n",
    "3. **Check if it's a Leaf:**\n",
    "   - If the node is a leaf (has no children), add the current path to the list of paths.\n",
    "\n",
    "4. **Add Children to the Stack:**\n",
    "   - If the node has a right child, add the right child and the current path to the stack.\n",
    "   - If the node has a left child, add the left child and the current path to the stack.\n",
    "\n",
    "5. **Get the Results:**\n",
    "   - Once the stack is empty, you will have the list of paths."
   ]
  },
  {
   "cell_type": "markdown",
   "metadata": {},
   "source": [
    "## Evaluation Criteria\n",
    "\n",
    "-   Problem is accurately stated\n",
    "\n",
    "-   Two examples are correct and easily understandable\n",
    "\n",
    "-   Correctness, time, and space complexity of the coding solution\n",
    "\n",
    "-   Clarity in explaining why the solution works, its time and space complexity\n",
    "\n",
    "-   Clarity in the proposal to the alternative solution"
   ]
  },
  {
   "cell_type": "markdown",
   "metadata": {},
   "source": [
    "## Submission Information\n",
    "\n",
    "🚨 **Please review our [Assignment Submission Guide](https://github.com/UofT-DSI/onboarding/blob/main/onboarding_documents/submissions.md)** 🚨 for detailed instructions on how to format, branch, and submit your work. Following these guidelines is crucial for your submissions to be evaluated correctly.\n",
    "\n",
    "### Submission Parameters:\n",
    "* Submission Due Date: `11:59 PM - 19/07/2024`\n",
    "* The branch name for your repo should be: `assignment-1`\n",
    "* What to submit for this assignment:\n",
    "    * This Jupyter Notebook (assignment_1.ipynb) should be populated and should be the only change in your pull request.\n",
    "* What the pull request link should look like for this assignment: `https://github.com/fredylrincon/algorithms_and_data_structures/pull/N`\n",
    "    * Open a private window in your browser. Copy and paste the link to your pull request into the address bar. Make sure you can see your pull request properly. This helps the technical facilitator and learning support staff review your submission easily.\n",
    "\n",
    "Checklist:\n",
    "- [X] Create a branch called `assignment-1`.\n",
    "- [X] Ensure that the repository is public.\n",
    "- [X] Review [the PR description guidelines](https://github.com/UofT-DSI/onboarding/blob/main/onboarding_documents/submissions.md#guidelines-for-pull-request-descriptions) and adhere to them.\n",
    "- [X] Verify that the link is accessible in a private browser window.\n",
    "\n",
    "If you encounter any difficulties or have questions, please don't hesitate to reach out to our team via our Slack at `#cohort-3-help`. Our Technical Facilitators and Learning Support staff are here to help you navigate any challenges."
   ]
  }
 ],
 "metadata": {
  "kernelspec": {
   "display_name": "Python 3",
   "language": "python",
   "name": "python3"
  },
  "language_info": {
   "codemirror_mode": {
    "name": "ipython",
    "version": 3
   },
   "file_extension": ".py",
   "mimetype": "text/x-python",
   "name": "python",
   "nbconvert_exporter": "python",
   "pygments_lexer": "ipython3",
   "version": "3.12.3"
  }
 },
 "nbformat": 4,
 "nbformat_minor": 2
}
